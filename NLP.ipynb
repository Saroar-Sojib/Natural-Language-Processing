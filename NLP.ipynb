{
  "nbformat": 4,
  "nbformat_minor": 0,
  "metadata": {
    "colab": {
      "name": "NLP.ipynb",
      "provenance": [],
      "collapsed_sections": [],
      "authorship_tag": "ABX9TyMX/n2T4bUBwMiOTwk1cpaN",
      "include_colab_link": true
    },
    "kernelspec": {
      "name": "python3",
      "display_name": "Python 3"
    },
    "language_info": {
      "name": "python"
    }
  },
  "cells": [
    {
      "cell_type": "markdown",
      "metadata": {
        "id": "view-in-github",
        "colab_type": "text"
      },
      "source": [
        "<a href=\"https://colab.research.google.com/github/Saroar-Sojib/Natural-Language-Processing/blob/main/NLP.ipynb\" target=\"_parent\"><img src=\"https://colab.research.google.com/assets/colab-badge.svg\" alt=\"Open In Colab\"/></a>"
      ]
    },
    {
      "cell_type": "code",
      "metadata": {
        "colab": {
          "base_uri": "https://localhost:8080/"
        },
        "id": "t7bSGS35z3w_",
        "outputId": "17b37c5d-4804-4cb7-a7f2-a076d449d489"
      },
      "source": [
        "#download nltk(natural language tool kit) in google colab\n",
        "import nltk\n",
        "nltk.download('punkt')"
      ],
      "execution_count": 12,
      "outputs": [
        {
          "output_type": "stream",
          "name": "stdout",
          "text": [
            "[nltk_data] Downloading package punkt to /root/nltk_data...\n",
            "[nltk_data]   Unzipping tokenizers/punkt.zip.\n"
          ]
        },
        {
          "output_type": "execute_result",
          "data": {
            "text/plain": [
              "True"
            ]
          },
          "metadata": {},
          "execution_count": 12
        }
      ]
    },
    {
      "cell_type": "code",
      "metadata": {
        "id": "b3DCaew9x3gh"
      },
      "source": [
        "#import nltk\n",
        "import nltk\n",
        "import nltk.corpus"
      ],
      "execution_count": 13,
      "outputs": []
    },
    {
      "cell_type": "code",
      "metadata": {
        "id": "X1XCNyu7yWVB"
      },
      "source": [
        "#import nltk with work_tokenize\n",
        "from nltk.tokenize import word_tokenize"
      ],
      "execution_count": 14,
      "outputs": []
    },
    {
      "cell_type": "code",
      "metadata": {
        "id": "orQrYHQwynO2"
      },
      "source": [
        "simple_string=\"Hello Here I am. and how are you? I am fine\""
      ],
      "execution_count": 25,
      "outputs": []
    },
    {
      "cell_type": "code",
      "metadata": {
        "colab": {
          "base_uri": "https://localhost:8080/"
        },
        "id": "Fu-djg-oywI-",
        "outputId": "4d00da40-6ac3-4484-9768-edec1774847d"
      },
      "source": [
        "#create all token form a string and store cricket_tokens \n",
        "string_tokens=word_tokenize(simple_string)\n",
        "string_tokens"
      ],
      "execution_count": 26,
      "outputs": [
        {
          "output_type": "execute_result",
          "data": {
            "text/plain": [
              "['Hello',\n",
              " 'Here',\n",
              " 'I',\n",
              " 'am',\n",
              " '.',\n",
              " 'and',\n",
              " 'how',\n",
              " 'are',\n",
              " 'you',\n",
              " '?',\n",
              " 'I',\n",
              " 'am',\n",
              " 'fine']"
            ]
          },
          "metadata": {},
          "execution_count": 26
        }
      ]
    },
    {
      "cell_type": "code",
      "metadata": {
        "colab": {
          "base_uri": "https://localhost:8080/"
        },
        "id": "8rgZLtf-0hfu",
        "outputId": "c1d7f5ca-b657-4fae-b431-769025876c2d"
      },
      "source": [
        "#to check type of tokens and len of tokens \n",
        "type(string_tokens),len(string_tokens)"
      ],
      "execution_count": 27,
      "outputs": [
        {
          "output_type": "execute_result",
          "data": {
            "text/plain": [
              "(list, 13)"
            ]
          },
          "metadata": {},
          "execution_count": 27
        }
      ]
    },
    {
      "cell_type": "code",
      "metadata": {
        "id": "4LPOQ4lq0yXO"
      },
      "source": [
        "#check frequence of tokens \n",
        "from nltk.probability import FreqDist\n",
        "fdist=FreqDist()"
      ],
      "execution_count": 28,
      "outputs": []
    },
    {
      "cell_type": "code",
      "metadata": {
        "colab": {
          "base_uri": "https://localhost:8080/"
        },
        "id": "kSW8f19A1R1W",
        "outputId": "cbabd8d8-d08c-45b5-e334-1468bdf9bcda"
      },
      "source": [
        "#print string_tokens frequence of each element\n",
        "for i in string_tokens:\n",
        "  fdist[i]=fdist[i]+1\n",
        "fdist"
      ],
      "execution_count": 29,
      "outputs": [
        {
          "output_type": "execute_result",
          "data": {
            "text/plain": [
              "FreqDist({'.': 1,\n",
              "          '?': 1,\n",
              "          'Hello': 1,\n",
              "          'Here': 1,\n",
              "          'I': 2,\n",
              "          'am': 2,\n",
              "          'and': 1,\n",
              "          'are': 1,\n",
              "          'fine': 1,\n",
              "          'how': 1,\n",
              "          'you': 1})"
            ]
          },
          "metadata": {},
          "execution_count": 29
        }
      ]
    },
    {
      "cell_type": "code",
      "metadata": {
        "colab": {
          "base_uri": "https://localhost:8080/"
        },
        "id": "nTz9lxb52YwO",
        "outputId": "ca027b8b-cf7e-4aa8-d59b-b15c6c279d8a"
      },
      "source": [
        "#Check most commong word occured in string \n",
        "common_word=fdist.most_common(5)\n",
        "common_word"
      ],
      "execution_count": 32,
      "outputs": [
        {
          "output_type": "execute_result",
          "data": {
            "text/plain": [
              "[('I', 2), ('am', 2), ('Hello', 1), ('Here', 1), ('.', 1)]"
            ]
          },
          "metadata": {},
          "execution_count": 32
        }
      ]
    },
    {
      "cell_type": "code",
      "metadata": {
        "id": "FS8CP4MZ-ehu"
      },
      "source": [
        ""
      ],
      "execution_count": null,
      "outputs": []
    },
    {
      "cell_type": "code",
      "metadata": {
        "id": "2iVdexN16Xjw"
      },
      "source": [
        "######################################################################### END ###############################################################################\n",
        "######################################################################### END ###############################################################################\n",
        "######################################################################### END ###############################################################################\n",
        "#Endig of uses of first home work task-1"
      ],
      "execution_count": null,
      "outputs": []
    },
    {
      "cell_type": "code",
      "metadata": {
        "id": "N7Y_bZ8b-eDA"
      },
      "source": [
        ""
      ],
      "execution_count": null,
      "outputs": []
    },
    {
      "cell_type": "code",
      "metadata": {
        "id": "mqhjTNcF3gMn"
      },
      "source": [
        "\n",
        "import nltk\n",
        "import nltk.corpus"
      ],
      "execution_count": 33,
      "outputs": []
    },
    {
      "cell_type": "code",
      "metadata": {
        "id": "57-zLGtX33c_"
      },
      "source": [
        "from nltk.tokenize import word_tokenize"
      ],
      "execution_count": 34,
      "outputs": []
    },
    {
      "cell_type": "code",
      "metadata": {
        "id": "R2lmV4fl4CfX"
      },
      "source": [
        "test_string=\"Bangladesh is a beautiful country. And most of the people denes on agriculture. Bangladesh not a big country\""
      ],
      "execution_count": 35,
      "outputs": []
    },
    {
      "cell_type": "code",
      "metadata": {
        "colab": {
          "base_uri": "https://localhost:8080/"
        },
        "id": "gN6ZyPGb4VUP",
        "outputId": "6a281a5d-07b3-4d57-c714-c3301b1b1726"
      },
      "source": [
        "test_string_tokens=word_tokenize(test_string)\n",
        "test_string_tokens"
      ],
      "execution_count": 36,
      "outputs": [
        {
          "output_type": "execute_result",
          "data": {
            "text/plain": [
              "['Bangladesh',\n",
              " 'is',\n",
              " 'a',\n",
              " 'beautiful',\n",
              " 'country',\n",
              " '.',\n",
              " 'And',\n",
              " 'most',\n",
              " 'of',\n",
              " 'the',\n",
              " 'people',\n",
              " 'denes',\n",
              " 'on',\n",
              " 'agriculture',\n",
              " '.',\n",
              " 'Bangladesh',\n",
              " 'not',\n",
              " 'a',\n",
              " 'big',\n",
              " 'country']"
            ]
          },
          "metadata": {},
          "execution_count": 36
        }
      ]
    },
    {
      "cell_type": "code",
      "metadata": {
        "colab": {
          "base_uri": "https://localhost:8080/"
        },
        "id": "40w9UY854iWG",
        "outputId": "37b73d50-4f91-417a-ff2a-484d11c55cab"
      },
      "source": [
        "type(test_string_tokens),len(test_string_tokens)"
      ],
      "execution_count": 37,
      "outputs": [
        {
          "output_type": "execute_result",
          "data": {
            "text/plain": [
              "(list, 20)"
            ]
          },
          "metadata": {},
          "execution_count": 37
        }
      ]
    },
    {
      "cell_type": "code",
      "metadata": {
        "id": "QJkupSzM45SP"
      },
      "source": [
        "from nltk.probability import FreqDist\n",
        "fdist=FreqDist()"
      ],
      "execution_count": 40,
      "outputs": []
    },
    {
      "cell_type": "code",
      "metadata": {
        "colab": {
          "base_uri": "https://localhost:8080/"
        },
        "id": "LYKwiwo45LYg",
        "outputId": "a8c0215b-a75b-431b-d7f0-c991f48d4586"
      },
      "source": [
        "for i in test_string_tokens:\n",
        "  fdist[i]=fdist[i]+1\n",
        "fdist\n",
        "\n",
        "  "
      ],
      "execution_count": 41,
      "outputs": [
        {
          "output_type": "execute_result",
          "data": {
            "text/plain": [
              "FreqDist({'.': 2,\n",
              "          'And': 1,\n",
              "          'Bangladesh': 2,\n",
              "          'a': 2,\n",
              "          'agriculture': 1,\n",
              "          'beautiful': 1,\n",
              "          'big': 1,\n",
              "          'country': 2,\n",
              "          'denes': 1,\n",
              "          'is': 1,\n",
              "          'most': 1,\n",
              "          'not': 1,\n",
              "          'of': 1,\n",
              "          'on': 1,\n",
              "          'people': 1,\n",
              "          'the': 1})"
            ]
          },
          "metadata": {},
          "execution_count": 41
        }
      ]
    },
    {
      "cell_type": "code",
      "metadata": {
        "colab": {
          "base_uri": "https://localhost:8080/"
        },
        "id": "5rUA47G15t55",
        "outputId": "a98b6495-a3c2-41cc-b538-4b9b51e25c3b"
      },
      "source": [
        "commonstring=fdist.most_common(5)\n",
        "commonstring"
      ],
      "execution_count": 42,
      "outputs": [
        {
          "output_type": "execute_result",
          "data": {
            "text/plain": [
              "[('Bangladesh', 2), ('a', 2), ('country', 2), ('.', 2), ('is', 1)]"
            ]
          },
          "metadata": {},
          "execution_count": 42
        }
      ]
    },
    {
      "cell_type": "code",
      "metadata": {
        "colab": {
          "base_uri": "https://localhost:8080/"
        },
        "id": "eYmydenm6BxH",
        "outputId": "f2bc90da-0376-4065-85ca-afed50e4e3f9"
      },
      "source": [
        "#print bigrams using nltk.bigrams built in function\n",
        "list(nltk.bigrams(test_string_tokens))"
      ],
      "execution_count": 43,
      "outputs": [
        {
          "output_type": "execute_result",
          "data": {
            "text/plain": [
              "[('Bangladesh', 'is'),\n",
              " ('is', 'a'),\n",
              " ('a', 'beautiful'),\n",
              " ('beautiful', 'country'),\n",
              " ('country', '.'),\n",
              " ('.', 'And'),\n",
              " ('And', 'most'),\n",
              " ('most', 'of'),\n",
              " ('of', 'the'),\n",
              " ('the', 'people'),\n",
              " ('people', 'denes'),\n",
              " ('denes', 'on'),\n",
              " ('on', 'agriculture'),\n",
              " ('agriculture', '.'),\n",
              " ('.', 'Bangladesh'),\n",
              " ('Bangladesh', 'not'),\n",
              " ('not', 'a'),\n",
              " ('a', 'big'),\n",
              " ('big', 'country')]"
            ]
          },
          "metadata": {},
          "execution_count": 43
        }
      ]
    },
    {
      "cell_type": "code",
      "metadata": {
        "colab": {
          "base_uri": "https://localhost:8080/"
        },
        "id": "F4FrsNgv66jf",
        "outputId": "d0ddb7de-f138-4bfb-b7c7-4d241b6ba1f2"
      },
      "source": [
        "#print bigrams using nltk.trigrams built in function\n",
        "list(nltk.trigrams(test_string_tokens))"
      ],
      "execution_count": 44,
      "outputs": [
        {
          "output_type": "execute_result",
          "data": {
            "text/plain": [
              "[('Bangladesh', 'is', 'a'),\n",
              " ('is', 'a', 'beautiful'),\n",
              " ('a', 'beautiful', 'country'),\n",
              " ('beautiful', 'country', '.'),\n",
              " ('country', '.', 'And'),\n",
              " ('.', 'And', 'most'),\n",
              " ('And', 'most', 'of'),\n",
              " ('most', 'of', 'the'),\n",
              " ('of', 'the', 'people'),\n",
              " ('the', 'people', 'denes'),\n",
              " ('people', 'denes', 'on'),\n",
              " ('denes', 'on', 'agriculture'),\n",
              " ('on', 'agriculture', '.'),\n",
              " ('agriculture', '.', 'Bangladesh'),\n",
              " ('.', 'Bangladesh', 'not'),\n",
              " ('Bangladesh', 'not', 'a'),\n",
              " ('not', 'a', 'big'),\n",
              " ('a', 'big', 'country')]"
            ]
          },
          "metadata": {},
          "execution_count": 44
        }
      ]
    },
    {
      "cell_type": "code",
      "metadata": {
        "colab": {
          "base_uri": "https://localhost:8080/"
        },
        "id": "zKYpWTp67Kfm",
        "outputId": "f8fc489b-560b-4d92-e00a-c119758a6509"
      },
      "source": [
        "#print bigrams using nltk.ngrams built in function\n",
        "list(nltk.ngrams(test_string_tokens,5))\n"
      ],
      "execution_count": 50,
      "outputs": [
        {
          "output_type": "execute_result",
          "data": {
            "text/plain": [
              "[('Bangladesh', 'is', 'a', 'beautiful', 'country'),\n",
              " ('is', 'a', 'beautiful', 'country', '.'),\n",
              " ('a', 'beautiful', 'country', '.', 'And'),\n",
              " ('beautiful', 'country', '.', 'And', 'most'),\n",
              " ('country', '.', 'And', 'most', 'of'),\n",
              " ('.', 'And', 'most', 'of', 'the'),\n",
              " ('And', 'most', 'of', 'the', 'people'),\n",
              " ('most', 'of', 'the', 'people', 'denes'),\n",
              " ('of', 'the', 'people', 'denes', 'on'),\n",
              " ('the', 'people', 'denes', 'on', 'agriculture'),\n",
              " ('people', 'denes', 'on', 'agriculture', '.'),\n",
              " ('denes', 'on', 'agriculture', '.', 'Bangladesh'),\n",
              " ('on', 'agriculture', '.', 'Bangladesh', 'not'),\n",
              " ('agriculture', '.', 'Bangladesh', 'not', 'a'),\n",
              " ('.', 'Bangladesh', 'not', 'a', 'big'),\n",
              " ('Bangladesh', 'not', 'a', 'big', 'country')]"
            ]
          },
          "metadata": {},
          "execution_count": 50
        }
      ]
    },
    {
      "cell_type": "code",
      "metadata": {
        "id": "LmIhQeAv_mWm"
      },
      "source": [
        "#import steaming stem\n",
        "from nltk.stem import PorterStemmer\n",
        "pst=PorterStemmer()"
      ],
      "execution_count": 51,
      "outputs": []
    },
    {
      "cell_type": "code",
      "metadata": {
        "colab": {
          "base_uri": "https://localhost:8080/"
        },
        "id": "nynoCHYa_9Nu",
        "outputId": "a1005464-bdb0-49a0-c6f6-4cf78415dc42"
      },
      "source": [
        "#steam word \n",
        "pst.stem(\"winning\"),pst.stem(\"studies\"),pst.stem(\"living\")"
      ],
      "execution_count": 53,
      "outputs": [
        {
          "output_type": "execute_result",
          "data": {
            "text/plain": [
              "('win', 'studi', 'live')"
            ]
          },
          "metadata": {},
          "execution_count": 53
        }
      ]
    },
    {
      "cell_type": "code",
      "metadata": {
        "id": "mk4f1_edA6hQ"
      },
      "source": [
        "#import WordNetLemmatizer for Lemmatizing word\n",
        "from nltk.stem import wordnet\n",
        "from nltk.stem import WordNetLemmatizer\n",
        "lmtizer=WordNetLemmatizer()"
      ],
      "execution_count": 54,
      "outputs": []
    },
    {
      "cell_type": "code",
      "metadata": {
        "id": "gMfzkJNABoPg"
      },
      "source": [
        "word_to_stem=[\"cats\",\"works\",\"geese\"]"
      ],
      "execution_count": 55,
      "outputs": []
    },
    {
      "cell_type": "code",
      "metadata": {
        "colab": {
          "base_uri": "https://localhost:8080/"
        },
        "id": "oeUlWQ7dCTr4",
        "outputId": "b10a8bfc-81e7-4fda-e452-fddd1d2a4757"
      },
      "source": [
        "#set and download word net in google colab\n",
        "import nltk\n",
        "nltk.download('wordnet')"
      ],
      "execution_count": 58,
      "outputs": [
        {
          "output_type": "stream",
          "name": "stdout",
          "text": [
            "[nltk_data] Downloading package wordnet to /root/nltk_data...\n",
            "[nltk_data]   Unzipping corpora/wordnet.zip.\n"
          ]
        },
        {
          "output_type": "execute_result",
          "data": {
            "text/plain": [
              "True"
            ]
          },
          "metadata": {},
          "execution_count": 58
        }
      ]
    },
    {
      "cell_type": "code",
      "metadata": {
        "colab": {
          "base_uri": "https://localhost:8080/"
        },
        "id": "CXZv3sYjBzsH",
        "outputId": "afced540-11f9-4195-8546-6942a60b3d77"
      },
      "source": [
        "#print lemmatize word from word_to_stem list\n",
        "for i in word_to_stem:\n",
        "  print(i+\": \"+lmtizer.lemmatize(i))"
      ],
      "execution_count": 59,
      "outputs": [
        {
          "output_type": "stream",
          "name": "stdout",
          "text": [
            "cats: cat\n",
            "works: work\n",
            "geese: goose\n"
          ]
        }
      ]
    },
    {
      "cell_type": "code",
      "metadata": {
        "id": "DD3BxWLRHJz2"
      },
      "source": [
        ""
      ],
      "execution_count": null,
      "outputs": []
    },
    {
      "cell_type": "code",
      "metadata": {
        "id": "-9_dLaDvHCGn"
      },
      "source": [
        "######################################################################### END ###############################################################################\n",
        "######################################################################### END ###############################################################################\n",
        "######################################################################### END ###############################################################################\n",
        "#Endig of uses of first home work task-2"
      ],
      "execution_count": null,
      "outputs": []
    },
    {
      "cell_type": "code",
      "metadata": {
        "id": "siJf_d0BHIVJ"
      },
      "source": [
        ""
      ],
      "execution_count": null,
      "outputs": []
    },
    {
      "cell_type": "code",
      "metadata": {
        "id": "dSyfp2yxHLHV"
      },
      "source": [
        "import nltk\n",
        "import nltk.corpus"
      ],
      "execution_count": 60,
      "outputs": []
    },
    {
      "cell_type": "code",
      "metadata": {
        "id": "O7XDi5RuHUrP"
      },
      "source": [
        "from nltk.tokenize import word_tokenize"
      ],
      "execution_count": 61,
      "outputs": []
    },
    {
      "cell_type": "code",
      "metadata": {
        "id": "p7PflYWpHwCv"
      },
      "source": [
        "string_pst=\"What do you understang about me. I am always chill minded\""
      ],
      "execution_count": 62,
      "outputs": []
    },
    {
      "cell_type": "code",
      "metadata": {
        "colab": {
          "base_uri": "https://localhost:8080/"
        },
        "id": "xh3vdRCcIPDW",
        "outputId": "39db6397-a8bc-4c50-c64b-9f25e5be0eac"
      },
      "source": [
        "pst_tokens=word_tokenize(string_pst)\n",
        "pst_tokens"
      ],
      "execution_count": 63,
      "outputs": [
        {
          "output_type": "execute_result",
          "data": {
            "text/plain": [
              "['What',\n",
              " 'do',\n",
              " 'you',\n",
              " 'understang',\n",
              " 'about',\n",
              " 'me',\n",
              " '.',\n",
              " 'I',\n",
              " 'am',\n",
              " 'always',\n",
              " 'chill',\n",
              " 'minded']"
            ]
          },
          "metadata": {},
          "execution_count": 63
        }
      ]
    },
    {
      "cell_type": "code",
      "metadata": {
        "colab": {
          "base_uri": "https://localhost:8080/"
        },
        "id": "23_9BgsuIxpA",
        "outputId": "e4faefd9-bc23-4033-8954-dbcbd0c7fa4c"
      },
      "source": [
        "#import nltk averaged_perception_tagger in google colab\n",
        "import nltk\n",
        "nltk.download('averaged_perceptron_tagger')"
      ],
      "execution_count": 65,
      "outputs": [
        {
          "output_type": "stream",
          "name": "stdout",
          "text": [
            "[nltk_data] Downloading package averaged_perceptron_tagger to\n",
            "[nltk_data]     /root/nltk_data...\n",
            "[nltk_data]   Unzipping taggers/averaged_perceptron_tagger.zip.\n"
          ]
        },
        {
          "output_type": "execute_result",
          "data": {
            "text/plain": [
              "True"
            ]
          },
          "metadata": {},
          "execution_count": 65
        }
      ]
    },
    {
      "cell_type": "code",
      "metadata": {
        "colab": {
          "base_uri": "https://localhost:8080/"
        },
        "id": "o_tLIbhKIclv",
        "outputId": "8239b4af-8293-47ec-c91d-403f63191d37"
      },
      "source": [
        "# create pos_tag to tokens pos tag means (part of speech tag)\n",
        "for i in pst_tokens:\n",
        "  print(nltk.pos_tag([i]))"
      ],
      "execution_count": 69,
      "outputs": [
        {
          "output_type": "stream",
          "name": "stdout",
          "text": [
            "[('What', 'WP')]\n",
            "[('do', 'VB')]\n",
            "[('you', 'PRP')]\n",
            "[('understang', 'NN')]\n",
            "[('about', 'IN')]\n",
            "[('me', 'PRP')]\n",
            "[('.', '.')]\n",
            "[('I', 'PRP')]\n",
            "[('am', 'VBP')]\n",
            "[('always', 'RB')]\n",
            "[('chill', 'NN')]\n",
            "[('minded', 'VBN')]\n"
          ]
        }
      ]
    },
    {
      "cell_type": "code",
      "metadata": {
        "id": "mgfOxjUlOzsw"
      },
      "source": [
        "#import chunk in google colab\n",
        "from nltk import ne_chunk"
      ],
      "execution_count": 71,
      "outputs": []
    },
    {
      "cell_type": "code",
      "metadata": {
        "id": "RKCep8rGPkwX"
      },
      "source": [
        "john=\"Apple buys U.K startup for 1$ billion\""
      ],
      "execution_count": 92,
      "outputs": []
    },
    {
      "cell_type": "code",
      "metadata": {
        "id": "O0XLdjZLPsB5"
      },
      "source": [
        "john_token=word_tokenize(john)"
      ],
      "execution_count": 93,
      "outputs": []
    },
    {
      "cell_type": "code",
      "metadata": {
        "colab": {
          "base_uri": "https://localhost:8080/"
        },
        "id": "ewNMh51AQEXC",
        "outputId": "a6872a01-8258-4b55-b6ca-13110b888e51"
      },
      "source": [
        "john_tag=nltk.pos_tag(john_token)\n",
        "john_tag"
      ],
      "execution_count": 94,
      "outputs": [
        {
          "output_type": "execute_result",
          "data": {
            "text/plain": [
              "[('Apple', 'NNP'),\n",
              " ('buys', 'VBZ'),\n",
              " ('U.K', 'NNP'),\n",
              " ('startup', 'NN'),\n",
              " ('for', 'IN'),\n",
              " ('1', 'CD'),\n",
              " ('$', '$'),\n",
              " ('billion', 'CD')]"
            ]
          },
          "metadata": {},
          "execution_count": 94
        }
      ]
    },
    {
      "cell_type": "code",
      "metadata": {
        "colab": {
          "base_uri": "https://localhost:8080/"
        },
        "id": "EUcXzJ7bQ7BY",
        "outputId": "6cb1db42-f1fc-4f9b-e926-5b80a16a1e13"
      },
      "source": [
        "#Named Entity Recognition package maxent_ne_chunker download in google colab\n",
        "import nltk\n",
        "nltk.download('maxent_ne_chunker')"
      ],
      "execution_count": 85,
      "outputs": [
        {
          "output_type": "stream",
          "name": "stdout",
          "text": [
            "[nltk_data] Downloading package maxent_ne_chunker to\n",
            "[nltk_data]     /root/nltk_data...\n",
            "[nltk_data]   Package maxent_ne_chunker is already up-to-date!\n"
          ]
        },
        {
          "output_type": "execute_result",
          "data": {
            "text/plain": [
              "True"
            ]
          },
          "metadata": {},
          "execution_count": 85
        }
      ]
    },
    {
      "cell_type": "code",
      "metadata": {
        "colab": {
          "base_uri": "https://localhost:8080/"
        },
        "id": "V_52LYTVRDFr",
        "outputId": "7293860d-1bff-4e2e-e126-96234bfa7325"
      },
      "source": [
        "#Named Entity Recognition package words download in google colab\n",
        "import nltk\n",
        "nltk.download('words')"
      ],
      "execution_count": 86,
      "outputs": [
        {
          "output_type": "stream",
          "name": "stdout",
          "text": [
            "[nltk_data] Downloading package words to /root/nltk_data...\n",
            "[nltk_data]   Package words is already up-to-date!\n"
          ]
        },
        {
          "output_type": "execute_result",
          "data": {
            "text/plain": [
              "True"
            ]
          },
          "metadata": {},
          "execution_count": 86
        }
      ]
    },
    {
      "cell_type": "code",
      "metadata": {
        "colab": {
          "base_uri": "https://localhost:8080/"
        },
        "id": "LYT2NheOP7SZ",
        "outputId": "bf1c5886-4adf-487c-92f4-b53c03c8db69"
      },
      "source": [
        "john_ner=nltk.ne_chunk(john_tag)\n",
        "print(john_ner)"
      ],
      "execution_count": 95,
      "outputs": [
        {
          "output_type": "stream",
          "name": "stdout",
          "text": [
            "(S\n",
            "  (GPE Apple/NNP)\n",
            "  buys/VBZ\n",
            "  U.K/NNP\n",
            "  startup/NN\n",
            "  for/IN\n",
            "  1/CD\n",
            "  $/$\n",
            "  billion/CD)\n"
          ]
        }
      ]
    },
    {
      "cell_type": "code",
      "metadata": {
        "id": "If3UaJO4Py9q"
      },
      "source": [
        ""
      ],
      "execution_count": null,
      "outputs": []
    },
    {
      "cell_type": "code",
      "metadata": {
        "id": "vbdwTgkEgrCi"
      },
      "source": [
        "######################################################################### END ###############################################################################\n",
        "######################################################################### END ###############################################################################\n",
        "######################################################################### END ###############################################################################\n",
        "#Endig of uses of first home work task-3"
      ],
      "execution_count": null,
      "outputs": []
    },
    {
      "cell_type": "code",
      "metadata": {
        "id": "PvO7y8GlgsiB"
      },
      "source": [
        ""
      ],
      "execution_count": null,
      "outputs": []
    },
    {
      "cell_type": "code",
      "metadata": {
        "id": "sD0EL47ygtMY"
      },
      "source": [
        "#All header file of Nltk\n",
        "import nltk\n",
        "import nltk.corpus\n",
        "from nltk.tokenize import word_tokenize\n",
        "from nltk import ne_chunk\n",
        "from nltk.probability import FreqDist\n",
        "from nltk.stem import PorterStemmer \n",
        "from nltk.stem import wordnet\n",
        "from nltk.stem import WordNetLemmatizer\n"
      ],
      "execution_count": 97,
      "outputs": []
    }
  ]
}